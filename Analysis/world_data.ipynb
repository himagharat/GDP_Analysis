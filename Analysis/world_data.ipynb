{
 "cells": [
  {
   "cell_type": "code",
   "execution_count": 1,
   "metadata": {},
   "outputs": [],
   "source": [
    "import pandas as pd"
   ]
  },
  {
   "cell_type": "code",
   "execution_count": 2,
   "metadata": {},
   "outputs": [],
   "source": [
    "df=pd.read_csv(r'C:\\\\UPenn\\\\GDP_Analysis\\\\GDP_Analysis\\\\Resources\\\\world_data.csv')\n",
    "df=df.iloc[:, 1:]\n",
    "df=df.set_index('Country')\n",
    "df = df.apply(pd.to_numeric, errors='coerce')\n",
    "df.columns = [i.replace('  ', ' ') for i in df.columns]"
   ]
  },
  {
   "cell_type": "code",
   "execution_count": 3,
   "metadata": {},
   "outputs": [],
   "source": [
    "attributes=['Assistance', 'CO2', 'Employment', 'GDP']\n",
    "\n",
    "countries=[]\n",
    "\n",
    "for attribute in attributes:\n",
    "    countries.append(df[[f'{attribute} 2011', f'{attribute} 2012', f'{attribute} 2013',\n",
    "       f'{attribute} 2014', f'{attribute} 2015', f'{attribute} 2016']].mean(axis=1))\n",
    "    "
   ]
  },
  {
   "cell_type": "code",
   "execution_count": 4,
   "metadata": {},
   "outputs": [],
   "source": [
    "result = pd.DataFrame([countries[0], countries[1],countries[2], countries[3]]).T\n",
    "result.columns=['Mean Assistance (2011-2016)', 'Mean CO2 (2011-2016)', 'Mean Employment (2011-2016)', 'Mean GDP (2011-2016)']"
   ]
  },
  {
   "cell_type": "code",
   "execution_count": 5,
   "metadata": {},
   "outputs": [
    {
     "data": {
      "text/html": [
       "<div>\n",
       "<style scoped>\n",
       "    .dataframe tbody tr th:only-of-type {\n",
       "        vertical-align: middle;\n",
       "    }\n",
       "\n",
       "    .dataframe tbody tr th {\n",
       "        vertical-align: top;\n",
       "    }\n",
       "\n",
       "    .dataframe thead th {\n",
       "        text-align: right;\n",
       "    }\n",
       "</style>\n",
       "<table border=\"1\" class=\"dataframe\">\n",
       "  <thead>\n",
       "    <tr style=\"text-align: right;\">\n",
       "      <th></th>\n",
       "      <th>Mean Assistance (2011-2016)</th>\n",
       "      <th>Mean CO2 (2011-2016)</th>\n",
       "      <th>Mean Employment (2011-2016)</th>\n",
       "      <th>Mean GDP (2011-2016)</th>\n",
       "    </tr>\n",
       "    <tr>\n",
       "      <th>Country</th>\n",
       "      <th></th>\n",
       "      <th></th>\n",
       "      <th></th>\n",
       "      <th></th>\n",
       "    </tr>\n",
       "  </thead>\n",
       "  <tbody>\n",
       "    <tr>\n",
       "      <th>Afghanistan</th>\n",
       "      <td>5.308612e+09</td>\n",
       "      <td>9703.495000</td>\n",
       "      <td>16.351667</td>\n",
       "      <td>1961.268333</td>\n",
       "    </tr>\n",
       "    <tr>\n",
       "      <th>Albania</th>\n",
       "      <td>2.976650e+08</td>\n",
       "      <td>4953.505000</td>\n",
       "      <td>18.136667</td>\n",
       "      <td>11050.331667</td>\n",
       "    </tr>\n",
       "    <tr>\n",
       "      <th>Algeria</th>\n",
       "      <td>1.533983e+08</td>\n",
       "      <td>139031.861667</td>\n",
       "      <td>30.910000</td>\n",
       "      <td>12750.568333</td>\n",
       "    </tr>\n",
       "    <tr>\n",
       "      <th>Angola</th>\n",
       "      <td>2.573450e+08</td>\n",
       "      <td>35430.556667</td>\n",
       "      <td>7.741667</td>\n",
       "      <td>7404.383333</td>\n",
       "    </tr>\n",
       "    <tr>\n",
       "      <th>Antigua and Barbuda</th>\n",
       "      <td>3.886667e+06</td>\n",
       "      <td>532.325000</td>\n",
       "      <td>0.000000</td>\n",
       "      <td>19435.211667</td>\n",
       "    </tr>\n",
       "    <tr>\n",
       "      <th>...</th>\n",
       "      <td>...</td>\n",
       "      <td>...</td>\n",
       "      <td>...</td>\n",
       "      <td>...</td>\n",
       "    </tr>\n",
       "    <tr>\n",
       "      <th>Vietnam</th>\n",
       "      <td>3.636665e+09</td>\n",
       "      <td>165060.838333</td>\n",
       "      <td>22.100000</td>\n",
       "      <td>5557.580000</td>\n",
       "    </tr>\n",
       "    <tr>\n",
       "      <th>West Bank and Gaza</th>\n",
       "      <td>2.300815e+09</td>\n",
       "      <td>2661.020000</td>\n",
       "      <td>27.946667</td>\n",
       "      <td>5482.028333</td>\n",
       "    </tr>\n",
       "    <tr>\n",
       "      <th>Yemen, Rep.</th>\n",
       "      <td>1.245327e+09</td>\n",
       "      <td>18875.270000</td>\n",
       "      <td>14.271666</td>\n",
       "      <td>3595.601667</td>\n",
       "    </tr>\n",
       "    <tr>\n",
       "      <th>Zambia</th>\n",
       "      <td>9.828650e+08</td>\n",
       "      <td>4122.318333</td>\n",
       "      <td>10.260000</td>\n",
       "      <td>3449.990000</td>\n",
       "    </tr>\n",
       "    <tr>\n",
       "      <th>Zimbabwe</th>\n",
       "      <td>7.924700e+08</td>\n",
       "      <td>10780.370000</td>\n",
       "      <td>7.871667</td>\n",
       "      <td>2522.828333</td>\n",
       "    </tr>\n",
       "  </tbody>\n",
       "</table>\n",
       "<p>199 rows × 4 columns</p>\n",
       "</div>"
      ],
      "text/plain": [
       "                     Mean Assistance (2011-2016)  Mean CO2 (2011-2016)  \\\n",
       "Country                                                                  \n",
       "Afghanistan                         5.308612e+09           9703.495000   \n",
       "Albania                             2.976650e+08           4953.505000   \n",
       "Algeria                             1.533983e+08         139031.861667   \n",
       "Angola                              2.573450e+08          35430.556667   \n",
       "Antigua and Barbuda                 3.886667e+06            532.325000   \n",
       "...                                          ...                   ...   \n",
       "Vietnam                             3.636665e+09         165060.838333   \n",
       "West Bank and Gaza                  2.300815e+09           2661.020000   \n",
       "Yemen, Rep.                         1.245327e+09          18875.270000   \n",
       "Zambia                              9.828650e+08           4122.318333   \n",
       "Zimbabwe                            7.924700e+08          10780.370000   \n",
       "\n",
       "                     Mean Employment (2011-2016)  Mean GDP (2011-2016)  \n",
       "Country                                                                 \n",
       "Afghanistan                            16.351667           1961.268333  \n",
       "Albania                                18.136667          11050.331667  \n",
       "Algeria                                30.910000          12750.568333  \n",
       "Angola                                  7.741667           7404.383333  \n",
       "Antigua and Barbuda                     0.000000          19435.211667  \n",
       "...                                          ...                   ...  \n",
       "Vietnam                                22.100000           5557.580000  \n",
       "West Bank and Gaza                     27.946667           5482.028333  \n",
       "Yemen, Rep.                            14.271666           3595.601667  \n",
       "Zambia                                 10.260000           3449.990000  \n",
       "Zimbabwe                                7.871667           2522.828333  \n",
       "\n",
       "[199 rows x 4 columns]"
      ]
     },
     "execution_count": 5,
     "metadata": {},
     "output_type": "execute_result"
    }
   ],
   "source": [
    "result"
   ]
  },
  {
   "cell_type": "markdown",
   "metadata": {},
   "source": [
    "Problem Structuring:\n",
    "\n",
    "1. Is there a relationship between Assistance provided and CO2 reduction?\n",
    "2. Is there a relationship between Assistance provided and Employment increase?\n",
    "2. Is there a relationship between Assistance provided and GDP increase?\n",
    "\n",
    "\n"
   ]
  },
  {
   "cell_type": "code",
   "execution_count": 6,
   "metadata": {},
   "outputs": [],
   "source": [
    "result.to_csv(\"world_data.csv\", encoding = \"utf-8\") "
   ]
  },
  {
   "cell_type": "code",
   "execution_count": null,
   "metadata": {},
   "outputs": [],
   "source": []
  },
  {
   "cell_type": "code",
   "execution_count": null,
   "metadata": {},
   "outputs": [],
   "source": []
  },
  {
   "cell_type": "code",
   "execution_count": null,
   "metadata": {},
   "outputs": [],
   "source": []
  },
  {
   "cell_type": "code",
   "execution_count": null,
   "metadata": {},
   "outputs": [],
   "source": []
  },
  {
   "cell_type": "code",
   "execution_count": null,
   "metadata": {},
   "outputs": [],
   "source": []
  },
  {
   "cell_type": "code",
   "execution_count": null,
   "metadata": {},
   "outputs": [],
   "source": []
  },
  {
   "cell_type": "code",
   "execution_count": null,
   "metadata": {},
   "outputs": [],
   "source": []
  },
  {
   "cell_type": "code",
   "execution_count": null,
   "metadata": {},
   "outputs": [],
   "source": []
  },
  {
   "cell_type": "code",
   "execution_count": null,
   "metadata": {},
   "outputs": [],
   "source": []
  },
  {
   "cell_type": "code",
   "execution_count": null,
   "metadata": {},
   "outputs": [],
   "source": []
  },
  {
   "cell_type": "code",
   "execution_count": null,
   "metadata": {},
   "outputs": [],
   "source": []
  }
 ],
 "metadata": {
  "kernelspec": {
   "display_name": "Python 3",
   "language": "python",
   "name": "python3"
  },
  "language_info": {
   "codemirror_mode": {
    "name": "ipython",
    "version": 3
   },
   "file_extension": ".py",
   "mimetype": "text/x-python",
   "name": "python",
   "nbconvert_exporter": "python",
   "pygments_lexer": "ipython3",
   "version": "3.6.12"
  }
 },
 "nbformat": 4,
 "nbformat_minor": 4
}
