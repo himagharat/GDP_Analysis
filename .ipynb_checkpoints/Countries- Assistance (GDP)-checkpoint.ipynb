{
 "cells": [
  {
   "cell_type": "code",
   "execution_count": 1,
   "id": "traditional-defense",
   "metadata": {},
   "outputs": [],
   "source": [
    "import numpy as np\n",
    "import matplotlib.pyplot as plt\n",
    "import pandas as pd"
   ]
  },
  {
   "cell_type": "code",
   "execution_count": 2,
   "id": "white-translation",
   "metadata": {},
   "outputs": [
    {
     "data": {
      "text/html": [
       "<div>\n",
       "<style scoped>\n",
       "    .dataframe tbody tr th:only-of-type {\n",
       "        vertical-align: middle;\n",
       "    }\n",
       "\n",
       "    .dataframe tbody tr th {\n",
       "        vertical-align: top;\n",
       "    }\n",
       "\n",
       "    .dataframe thead th {\n",
       "        text-align: right;\n",
       "    }\n",
       "</style>\n",
       "<table border=\"1\" class=\"dataframe\">\n",
       "  <thead>\n",
       "    <tr style=\"text-align: right;\">\n",
       "      <th></th>\n",
       "      <th>Unnamed: 0</th>\n",
       "      <th>Country</th>\n",
       "      <th>Mean Assistance (2011-2016)</th>\n",
       "      <th>Mean CO2 (2011-2016)</th>\n",
       "      <th>Mean Employment (2011-2016)</th>\n",
       "      <th>Mean GDP (2011-2016)</th>\n",
       "    </tr>\n",
       "  </thead>\n",
       "  <tbody>\n",
       "    <tr>\n",
       "      <th>0</th>\n",
       "      <td>0</td>\n",
       "      <td>Afghanistan</td>\n",
       "      <td>5.308612e+09</td>\n",
       "      <td>9703.49500</td>\n",
       "      <td>16.351667</td>\n",
       "      <td>1961.268333</td>\n",
       "    </tr>\n",
       "    <tr>\n",
       "      <th>1</th>\n",
       "      <td>1</td>\n",
       "      <td>Albania</td>\n",
       "      <td>2.976650e+08</td>\n",
       "      <td>4953.50500</td>\n",
       "      <td>18.136667</td>\n",
       "      <td>11050.331670</td>\n",
       "    </tr>\n",
       "    <tr>\n",
       "      <th>2</th>\n",
       "      <td>2</td>\n",
       "      <td>Algeria</td>\n",
       "      <td>1.533983e+08</td>\n",
       "      <td>139031.86170</td>\n",
       "      <td>30.910000</td>\n",
       "      <td>12750.568330</td>\n",
       "    </tr>\n",
       "    <tr>\n",
       "      <th>3</th>\n",
       "      <td>3</td>\n",
       "      <td>Angola</td>\n",
       "      <td>2.573450e+08</td>\n",
       "      <td>35430.55667</td>\n",
       "      <td>7.741667</td>\n",
       "      <td>7404.383333</td>\n",
       "    </tr>\n",
       "    <tr>\n",
       "      <th>4</th>\n",
       "      <td>4</td>\n",
       "      <td>Antigua and Barbuda</td>\n",
       "      <td>3.886667e+06</td>\n",
       "      <td>532.32500</td>\n",
       "      <td>0.000000</td>\n",
       "      <td>19435.211670</td>\n",
       "    </tr>\n",
       "  </tbody>\n",
       "</table>\n",
       "</div>"
      ],
      "text/plain": [
       "   Unnamed: 0              Country  Mean Assistance (2011-2016)  \\\n",
       "0           0          Afghanistan                 5.308612e+09   \n",
       "1           1              Albania                 2.976650e+08   \n",
       "2           2              Algeria                 1.533983e+08   \n",
       "3           3               Angola                 2.573450e+08   \n",
       "4           4  Antigua and Barbuda                 3.886667e+06   \n",
       "\n",
       "   Mean CO2 (2011-2016)  Mean Employment (2011-2016)  Mean GDP (2011-2016)  \n",
       "0            9703.49500                    16.351667           1961.268333  \n",
       "1            4953.50500                    18.136667          11050.331670  \n",
       "2          139031.86170                    30.910000          12750.568330  \n",
       "3           35430.55667                     7.741667           7404.383333  \n",
       "4             532.32500                     0.000000          19435.211670  "
      ]
     },
     "execution_count": 2,
     "metadata": {},
     "output_type": "execute_result"
    }
   ],
   "source": [
    "countries_a = pd.read_csv(\"C:\\\\UPenn\\\\GDP_Analysis\\\\GDP_Analysis\\\\Resources\\\\countries_assistance.csv\")\n",
    "countries_a.head()"
   ]
  },
  {
   "cell_type": "code",
   "execution_count": 3,
   "id": "antique-holiday",
   "metadata": {},
   "outputs": [
    {
     "data": {
      "text/html": [
       "<div>\n",
       "<style scoped>\n",
       "    .dataframe tbody tr th:only-of-type {\n",
       "        vertical-align: middle;\n",
       "    }\n",
       "\n",
       "    .dataframe tbody tr th {\n",
       "        vertical-align: top;\n",
       "    }\n",
       "\n",
       "    .dataframe thead th {\n",
       "        text-align: right;\n",
       "    }\n",
       "</style>\n",
       "<table border=\"1\" class=\"dataframe\">\n",
       "  <thead>\n",
       "    <tr style=\"text-align: right;\">\n",
       "      <th></th>\n",
       "      <th>Unnamed: 0</th>\n",
       "      <th>Mean Assistance (2011-2016)</th>\n",
       "      <th>Mean CO2 (2011-2016)</th>\n",
       "      <th>Mean Employment (2011-2016)</th>\n",
       "      <th>Mean GDP (2011-2016)</th>\n",
       "    </tr>\n",
       "  </thead>\n",
       "  <tbody>\n",
       "    <tr>\n",
       "      <th>0</th>\n",
       "      <td>0</td>\n",
       "      <td>5.308612e+09</td>\n",
       "      <td>9703.49500</td>\n",
       "      <td>16.351667</td>\n",
       "      <td>1961.268333</td>\n",
       "    </tr>\n",
       "    <tr>\n",
       "      <th>1</th>\n",
       "      <td>1</td>\n",
       "      <td>2.976650e+08</td>\n",
       "      <td>4953.50500</td>\n",
       "      <td>18.136667</td>\n",
       "      <td>11050.331670</td>\n",
       "    </tr>\n",
       "    <tr>\n",
       "      <th>2</th>\n",
       "      <td>2</td>\n",
       "      <td>1.533983e+08</td>\n",
       "      <td>139031.86170</td>\n",
       "      <td>30.910000</td>\n",
       "      <td>12750.568330</td>\n",
       "    </tr>\n",
       "    <tr>\n",
       "      <th>3</th>\n",
       "      <td>3</td>\n",
       "      <td>2.573450e+08</td>\n",
       "      <td>35430.55667</td>\n",
       "      <td>7.741667</td>\n",
       "      <td>7404.383333</td>\n",
       "    </tr>\n",
       "    <tr>\n",
       "      <th>4</th>\n",
       "      <td>4</td>\n",
       "      <td>3.886667e+06</td>\n",
       "      <td>532.32500</td>\n",
       "      <td>0.000000</td>\n",
       "      <td>19435.211670</td>\n",
       "    </tr>\n",
       "  </tbody>\n",
       "</table>\n",
       "</div>"
      ],
      "text/plain": [
       "   Unnamed: 0  Mean Assistance (2011-2016)  Mean CO2 (2011-2016)  \\\n",
       "0           0                 5.308612e+09            9703.49500   \n",
       "1           1                 2.976650e+08            4953.50500   \n",
       "2           2                 1.533983e+08          139031.86170   \n",
       "3           3                 2.573450e+08           35430.55667   \n",
       "4           4                 3.886667e+06             532.32500   \n",
       "\n",
       "   Mean Employment (2011-2016)  Mean GDP (2011-2016)  \n",
       "0                    16.351667           1961.268333  \n",
       "1                    18.136667          11050.331670  \n",
       "2                    30.910000          12750.568330  \n",
       "3                     7.741667           7404.383333  \n",
       "4                     0.000000          19435.211670  "
      ]
     },
     "execution_count": 3,
     "metadata": {},
     "output_type": "execute_result"
    }
   ],
   "source": [
    "countries_as= countries_a.drop(columns=[\"Country\"])\n",
    "countries_as.head()"
   ]
  },
  {
   "cell_type": "code",
   "execution_count": 4,
   "id": "blind-server",
   "metadata": {},
   "outputs": [
    {
     "data": {
      "text/html": [
       "<div>\n",
       "<style scoped>\n",
       "    .dataframe tbody tr th:only-of-type {\n",
       "        vertical-align: middle;\n",
       "    }\n",
       "\n",
       "    .dataframe tbody tr th {\n",
       "        vertical-align: top;\n",
       "    }\n",
       "\n",
       "    .dataframe thead th {\n",
       "        text-align: right;\n",
       "    }\n",
       "</style>\n",
       "<table border=\"1\" class=\"dataframe\">\n",
       "  <thead>\n",
       "    <tr style=\"text-align: right;\">\n",
       "      <th></th>\n",
       "      <th>ID</th>\n",
       "      <th>Mean Assistance (2011-2016)</th>\n",
       "      <th>Mean CO2 (2011-2016)</th>\n",
       "      <th>Mean Employment (2011-2016)</th>\n",
       "      <th>Mean GDP (2011-2016)</th>\n",
       "    </tr>\n",
       "  </thead>\n",
       "  <tbody>\n",
       "    <tr>\n",
       "      <th>0</th>\n",
       "      <td>0</td>\n",
       "      <td>5.308612e+09</td>\n",
       "      <td>9703.495000</td>\n",
       "      <td>16.351667</td>\n",
       "      <td>1961.268333</td>\n",
       "    </tr>\n",
       "    <tr>\n",
       "      <th>1</th>\n",
       "      <td>1</td>\n",
       "      <td>2.976650e+08</td>\n",
       "      <td>4953.505000</td>\n",
       "      <td>18.136667</td>\n",
       "      <td>11050.331670</td>\n",
       "    </tr>\n",
       "    <tr>\n",
       "      <th>2</th>\n",
       "      <td>2</td>\n",
       "      <td>1.533983e+08</td>\n",
       "      <td>139031.861700</td>\n",
       "      <td>30.910000</td>\n",
       "      <td>12750.568330</td>\n",
       "    </tr>\n",
       "    <tr>\n",
       "      <th>3</th>\n",
       "      <td>3</td>\n",
       "      <td>2.573450e+08</td>\n",
       "      <td>35430.556670</td>\n",
       "      <td>7.741667</td>\n",
       "      <td>7404.383333</td>\n",
       "    </tr>\n",
       "    <tr>\n",
       "      <th>4</th>\n",
       "      <td>4</td>\n",
       "      <td>3.886667e+06</td>\n",
       "      <td>532.325000</td>\n",
       "      <td>0.000000</td>\n",
       "      <td>19435.211670</td>\n",
       "    </tr>\n",
       "    <tr>\n",
       "      <th>...</th>\n",
       "      <td>...</td>\n",
       "      <td>...</td>\n",
       "      <td>...</td>\n",
       "      <td>...</td>\n",
       "      <td>...</td>\n",
       "    </tr>\n",
       "    <tr>\n",
       "      <th>132</th>\n",
       "      <td>194</td>\n",
       "      <td>3.636665e+09</td>\n",
       "      <td>165060.838300</td>\n",
       "      <td>22.100000</td>\n",
       "      <td>5557.580000</td>\n",
       "    </tr>\n",
       "    <tr>\n",
       "      <th>133</th>\n",
       "      <td>195</td>\n",
       "      <td>2.300815e+09</td>\n",
       "      <td>2661.020000</td>\n",
       "      <td>27.946667</td>\n",
       "      <td>5482.028333</td>\n",
       "    </tr>\n",
       "    <tr>\n",
       "      <th>134</th>\n",
       "      <td>196</td>\n",
       "      <td>1.245327e+09</td>\n",
       "      <td>18875.270000</td>\n",
       "      <td>14.271666</td>\n",
       "      <td>3595.601667</td>\n",
       "    </tr>\n",
       "    <tr>\n",
       "      <th>135</th>\n",
       "      <td>197</td>\n",
       "      <td>9.828650e+08</td>\n",
       "      <td>4122.318333</td>\n",
       "      <td>10.260000</td>\n",
       "      <td>3449.990000</td>\n",
       "    </tr>\n",
       "    <tr>\n",
       "      <th>136</th>\n",
       "      <td>198</td>\n",
       "      <td>7.924700e+08</td>\n",
       "      <td>10780.370000</td>\n",
       "      <td>7.871667</td>\n",
       "      <td>2522.828333</td>\n",
       "    </tr>\n",
       "  </tbody>\n",
       "</table>\n",
       "<p>137 rows × 5 columns</p>\n",
       "</div>"
      ],
      "text/plain": [
       "      ID  Mean Assistance (2011-2016)  Mean CO2 (2011-2016)  \\\n",
       "0      0                 5.308612e+09           9703.495000   \n",
       "1      1                 2.976650e+08           4953.505000   \n",
       "2      2                 1.533983e+08         139031.861700   \n",
       "3      3                 2.573450e+08          35430.556670   \n",
       "4      4                 3.886667e+06            532.325000   \n",
       "..   ...                          ...                   ...   \n",
       "132  194                 3.636665e+09         165060.838300   \n",
       "133  195                 2.300815e+09           2661.020000   \n",
       "134  196                 1.245327e+09          18875.270000   \n",
       "135  197                 9.828650e+08           4122.318333   \n",
       "136  198                 7.924700e+08          10780.370000   \n",
       "\n",
       "     Mean Employment (2011-2016)  Mean GDP (2011-2016)  \n",
       "0                      16.351667           1961.268333  \n",
       "1                      18.136667          11050.331670  \n",
       "2                      30.910000          12750.568330  \n",
       "3                       7.741667           7404.383333  \n",
       "4                       0.000000          19435.211670  \n",
       "..                           ...                   ...  \n",
       "132                    22.100000           5557.580000  \n",
       "133                    27.946667           5482.028333  \n",
       "134                    14.271666           3595.601667  \n",
       "135                    10.260000           3449.990000  \n",
       "136                     7.871667           2522.828333  \n",
       "\n",
       "[137 rows x 5 columns]"
      ]
     },
     "execution_count": 4,
     "metadata": {},
     "output_type": "execute_result"
    }
   ],
   "source": [
    "countries_as1=countries_as.rename(columns={\"Unnamed: 0\": \"ID\"})\n",
    "countries_as1"
   ]
  },
  {
   "cell_type": "code",
   "execution_count": 5,
   "id": "banned-blanket",
   "metadata": {},
   "outputs": [
    {
     "name": "stdout",
     "output_type": "stream",
     "text": [
      "Shape:  (137, 1) (137, 1)\n"
     ]
    },
    {
     "data": {
      "text/plain": [
       "array([[5.30861174e+09],\n",
       "       [2.97665006e+08],\n",
       "       [1.53398334e+08],\n",
       "       [2.57345001e+08],\n",
       "       [3.88666667e+06],\n",
       "       [5.70133328e+07],\n",
       "       [3.11374995e+08],\n",
       "       [1.44913334e+08],\n",
       "       [2.29558834e+09],\n",
       "       [8.87816680e+07],\n",
       "       [3.32100000e+07],\n",
       "       [5.62900004e+08],\n",
       "       [1.16103332e+08],\n",
       "       [6.78728322e+08],\n",
       "       [5.24620016e+08],\n",
       "       [9.24033343e+07],\n",
       "       [9.79488342e+08],\n",
       "       [1.05510164e+09],\n",
       "       [5.46640004e+08],\n",
       "       [2.07008333e+08],\n",
       "       [7.53003337e+08],\n",
       "       [7.06343333e+08],\n",
       "       [3.84016670e+08],\n",
       "       [5.02488332e+08],\n",
       "       [1.41365000e+08],\n",
       "       [1.05365335e+09],\n",
       "       [7.21116664e+07],\n",
       "       [3.00967167e+09],\n",
       "       [1.39065001e+08],\n",
       "       [6.05666669e+07],\n",
       "       [1.30200333e+09],\n",
       "       [1.60660001e+08],\n",
       "       [1.77950002e+07],\n",
       "       [2.12086665e+08],\n",
       "       [2.01133336e+08],\n",
       "       [2.70819168e+09],\n",
       "       [1.67196669e+08],\n",
       "       [9.75999983e+06],\n",
       "       [9.92700005e+07],\n",
       "       [1.09690000e+08],\n",
       "       [3.58865666e+09],\n",
       "       [9.76866672e+07],\n",
       "       [7.95299981e+07],\n",
       "       [1.15543334e+08],\n",
       "       [5.54331665e+08],\n",
       "       [1.52393168e+09],\n",
       "       [1.74349998e+07],\n",
       "       [3.51940008e+08],\n",
       "       [4.95354996e+08],\n",
       "       [1.18116667e+08],\n",
       "       [9.74249993e+07],\n",
       "       [1.18863999e+09],\n",
       "       [5.18431666e+08],\n",
       "       [2.70893671e+09],\n",
       "       [1.16241666e+08],\n",
       "       [1.64953664e+09],\n",
       "       [5.37649988e+07],\n",
       "       [1.84968498e+09],\n",
       "       [1.10155000e+08],\n",
       "       [2.62538334e+09],\n",
       "       [6.69416663e+07],\n",
       "       [1.21678332e+08],\n",
       "       [5.17616664e+08],\n",
       "       [5.61428335e+08],\n",
       "       [4.25158335e+08],\n",
       "       [7.87428324e+08],\n",
       "       [1.93238335e+08],\n",
       "       [7.54681681e+08],\n",
       "       [2.34031663e+08],\n",
       "       [5.33710002e+08],\n",
       "       [1.05398168e+09],\n",
       "       [3.29166670e+07],\n",
       "       [1.21723335e+09],\n",
       "       [6.45716659e+07],\n",
       "       [3.30618332e+08],\n",
       "       [1.12243333e+08],\n",
       "       [6.47106679e+08],\n",
       "       [1.11056667e+08],\n",
       "       [3.96383326e+08],\n",
       "       [3.48903336e+08],\n",
       "       [1.05501666e+08],\n",
       "       [1.79012834e+09],\n",
       "       [1.98479498e+09],\n",
       "       [1.48503669e+09],\n",
       "       [2.21746668e+08],\n",
       "       [2.97249998e+07],\n",
       "       [9.27514994e+08],\n",
       "       [4.80961675e+08],\n",
       "       [8.45441671e+08],\n",
       "       [2.27501335e+09],\n",
       "       [1.88553334e+08],\n",
       "       [3.04453172e+09],\n",
       "       [2.17683330e+07],\n",
       "       [1.85000117e+06],\n",
       "       [6.08178335e+08],\n",
       "       [8.77333349e+07],\n",
       "       [3.87211660e+08],\n",
       "       [2.54810002e+08],\n",
       "       [1.08367999e+09],\n",
       "       [9.92416674e+07],\n",
       "       [5.25500011e+07],\n",
       "       [9.72360006e+08],\n",
       "       [7.60036677e+08],\n",
       "       [1.82450000e+07],\n",
       "       [6.44470011e+08],\n",
       "       [2.48143334e+08],\n",
       "       [1.11623666e+09],\n",
       "       [1.23934833e+09],\n",
       "       [1.37456167e+09],\n",
       "       [4.69470011e+08],\n",
       "       [2.34356787e+07],\n",
       "       [2.26350002e+07],\n",
       "       [1.11833336e+07],\n",
       "       [1.21205500e+09],\n",
       "       [3.22333334e+07],\n",
       "       [3.93993003e+09],\n",
       "       [3.69225001e+08],\n",
       "       [2.70840332e+09],\n",
       "       [6.73766696e+07],\n",
       "       [2.50576668e+08],\n",
       "       [2.65406670e+08],\n",
       "       [7.98616664e+07],\n",
       "       [7.87901662e+08],\n",
       "       [3.07423336e+09],\n",
       "       [3.40083332e+07],\n",
       "       [3.31183335e+07],\n",
       "       [1.65782501e+09],\n",
       "       [1.11953664e+09],\n",
       "       [3.41850001e+07],\n",
       "       [3.30261668e+08],\n",
       "       [1.17045001e+08],\n",
       "       [4.34600010e+07],\n",
       "       [3.63666504e+09],\n",
       "       [2.30081500e+09],\n",
       "       [1.24532668e+09],\n",
       "       [9.82865000e+08],\n",
       "       [7.92470001e+08]])"
      ]
     },
     "execution_count": 5,
     "metadata": {},
     "output_type": "execute_result"
    }
   ],
   "source": [
    "X = countries_as1['Mean Assistance (2011-2016)'].values.reshape(-1, 1)\n",
    "y = countries_as1['Mean GDP (2011-2016)'].values.reshape(-1, 1)\n",
    "\n",
    "print(\"Shape: \", X.shape, y.shape)\n",
    "X"
   ]
  },
  {
   "cell_type": "code",
   "execution_count": 6,
   "id": "martial-paintball",
   "metadata": {},
   "outputs": [
    {
     "data": {
      "text/plain": [
       "<matplotlib.collections.PathCollection at 0x16f1d171c50>"
      ]
     },
     "execution_count": 6,
     "metadata": {},
     "output_type": "execute_result"
    },
    {
     "data": {
      "image/png": "[encoded data removed]",
      "text/plain": [
       "<Figure size 432x288 with 1 Axes>"
      ]
     },
     "metadata": {
      "needs_background": "light"
     },
     "output_type": "display_data"
    }
   ],
   "source": [
    "\n",
    "# Plot the data\n",
    "\n",
    "\n",
    "plt.scatter(X, y)"
   ]
  },
  {
   "cell_type": "code",
   "execution_count": 7,
   "id": "descending-lobby",
   "metadata": {},
   "outputs": [],
   "source": [
    "# Create the model and fit the model to the data\n",
    "\n",
    "from sklearn.linear_model import LinearRegression\n",
    "\n",
    "model = LinearRegression()"
   ]
  },
  {
   "cell_type": "code",
   "execution_count": 8,
   "id": "loose-shape",
   "metadata": {},
   "outputs": [
    {
     "data": {
      "text/plain": [
       "LinearRegression()"
      ]
     },
     "execution_count": 8,
     "metadata": {},
     "output_type": "execute_result"
    }
   ],
   "source": [
    "model.fit(X, y)"
   ]
  },
  {
   "cell_type": "code",
   "execution_count": 9,
   "id": "front-array",
   "metadata": {},
   "outputs": [
    {
     "name": "stdout",
     "output_type": "stream",
     "text": [
      "Weight coefficients:  [[-2.08054225e-06]]\n",
      "y-axis intercept:  [9617.11518559]\n"
     ]
    }
   ],
   "source": [
    "print('Weight coefficients: ', model.coef_)\n",
    "print('y-axis intercept: ', model.intercept_)"
   ]
  },
  {
   "cell_type": "code",
   "execution_count": 10,
   "id": "bright-engineering",
   "metadata": {},
   "outputs": [
    {
     "name": "stdout",
     "output_type": "stream",
     "text": [
      "Min X Value: [[1850001.17]]\n",
      "Max X Value: [[5.30861174e+09]]\n"
     ]
    }
   ],
   "source": [
    "#Note: we have to transform our min and max values \n",
    "# so they are in the format: array([[ 1.17]])\n",
    "# This is the required format for `model.predict()`\n",
    "\n",
    "x_min = np.array([[X.min()]])\n",
    "x_max = np.array([[X.max()]])\n",
    "print(f\"Min X Value: {x_min}\")\n",
    "print(f\"Max X Value: {x_max}\")"
   ]
  },
  {
   "cell_type": "code",
   "execution_count": 11,
   "id": "enclosed-resort",
   "metadata": {},
   "outputs": [],
   "source": [
    "# Calculate the y_min and y_max using model.predict and x_min and x_max\n",
    "\n",
    "y_min = model.predict(x_min)\n",
    "y_max = model.predict(x_max)\n"
   ]
  },
  {
   "cell_type": "code",
   "execution_count": 13,
   "id": "governmental-shift",
   "metadata": {},
   "outputs": [],
   "source": [
    "X = countries_as1.iloc[:, :2].values\n",
    "y = countries_as1.iloc[:, :5].values"
   ]
  },
  {
   "cell_type": "code",
   "execution_count": null,
   "id": "annoying-paragraph",
   "metadata": {},
   "outputs": [],
   "source": [
    "# Plot X and y using plt.scatter\n",
    "# Plot the model fit line using [x_min[0], x_max[0]], [y_min[0], y_max[0]]\n",
    "\n",
    "plt.scatter(X, y, c='blue',)\n",
    "plt.plot([x_min[0], x_max[0]], [y_min[0], y_max[0]], c='red')\n",
    "plt.title(\"Foreign Aid vs. GDP\")\n",
    "plt.xlabel('Foreign Aid')\n",
    "plt.ylabel('GDP')"
   ]
  },
  {
   "cell_type": "code",
   "execution_count": null,
   "id": "actual-husband",
   "metadata": {},
   "outputs": [],
   "source": [
    "from sklearn.model_selection import train_test_split\n",
    "X_train, X_test, y_train, y_test = train_test_split(X, y, test_size = 0.2)"
   ]
  },
  {
   "cell_type": "code",
   "execution_count": null,
   "id": "hydraulic-weapon",
   "metadata": {},
   "outputs": [],
   "source": [
    "from sklearn.linear_model import LinearRegression\n",
    "regressor = LinearRegression()\n",
    "regressor.fit(X_train, y_train)"
   ]
  },
  {
   "cell_type": "code",
   "execution_count": null,
   "id": "crude-training",
   "metadata": {},
   "outputs": [],
   "source": [
    "y_pred = regressor.predict(X_test)\n",
    "countries_as2 = pd.DataFrame({'Real Values':y_test, 'Predicted Values':y_pred})\n",
    "countries_as2"
   ]
  },
  {
   "cell_type": "code",
   "execution_count": null,
   "id": "successful-diabetes",
   "metadata": {},
   "outputs": [],
   "source": [
    "from sklearn.metrics import mean_squared_error\n",
    "import sklearn.metrics as metrics\n",
    "mse = metrics.mean_squared_error(y_test, y_pred)\n",
    "r2 = metrics.r2_score(y_test, y_pred)\n",
    "print(\"MSE:\", mse)\n",
    "print(\"R-Squared:\", r2)"
   ]
  },
  {
   "cell_type": "code",
   "execution_count": null,
   "id": "pretty-revelation",
   "metadata": {},
   "outputs": [],
   "source": []
  }
 ],
 "metadata": {
  "kernelspec": {
   "display_name": "Python 3",
   "language": "python",
   "name": "python3"
  },
  "language_info": {
   "codemirror_mode": {
    "name": "ipython",
    "version": 3
   },
   "file_extension": ".py",
   "mimetype": "text/x-python",
   "name": "python",
   "nbconvert_exporter": "python",
   "pygments_lexer": "ipython3",
   "version": "3.6.12"
  }
 },
 "nbformat": 4,
 "nbformat_minor": 5
}
