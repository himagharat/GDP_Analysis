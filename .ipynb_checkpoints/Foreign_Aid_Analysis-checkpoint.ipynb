{
 "cells": [
  {
   "cell_type": "code",
   "execution_count": 50,
   "id": "organizational-place",
   "metadata": {},
   "outputs": [],
   "source": [
    "#Import Dependencies\n",
    "import pandas as pd\n",
    "import numpy as np\n",
    "import matplotlib.pyplot as plt\n",
    "%matplotlib inline\n",
    "from sklearn.datasets import make_regression\n",
    "from sklearn.model_selection import train_test_split\n",
    "from sklearn.linear_model import LinearRegression\n",
    "from sklearn.metrics import mean_squared_error"
   ]
  },
  {
   "cell_type": "code",
   "execution_count": 51,
   "id": "organizational-killing",
   "metadata": {},
   "outputs": [
    {
     "data": {
      "text/html": [
       "<div>\n",
       "<style scoped>\n",
       "    .dataframe tbody tr th:only-of-type {\n",
       "        vertical-align: middle;\n",
       "    }\n",
       "\n",
       "    .dataframe tbody tr th {\n",
       "        vertical-align: top;\n",
       "    }\n",
       "\n",
       "    .dataframe thead th {\n",
       "        text-align: right;\n",
       "    }\n",
       "</style>\n",
       "<table border=\"1\" class=\"dataframe\">\n",
       "  <thead>\n",
       "    <tr style=\"text-align: right;\">\n",
       "      <th></th>\n",
       "      <th>Country</th>\n",
       "      <th>Mean Assistance (2011-2016)</th>\n",
       "      <th>Mean CO2 (2011-2016)</th>\n",
       "      <th>Mean Employment (2011-2016)</th>\n",
       "      <th>Mean GDP (2011-2016)</th>\n",
       "    </tr>\n",
       "  </thead>\n",
       "  <tbody>\n",
       "    <tr>\n",
       "      <th>0</th>\n",
       "      <td>Afghanistan</td>\n",
       "      <td>5.308612e+09</td>\n",
       "      <td>9703.49500</td>\n",
       "      <td>16.351667</td>\n",
       "      <td>1961.268333</td>\n",
       "    </tr>\n",
       "    <tr>\n",
       "      <th>1</th>\n",
       "      <td>Albania</td>\n",
       "      <td>2.976650e+08</td>\n",
       "      <td>4953.50500</td>\n",
       "      <td>18.136667</td>\n",
       "      <td>11050.331670</td>\n",
       "    </tr>\n",
       "    <tr>\n",
       "      <th>2</th>\n",
       "      <td>Algeria</td>\n",
       "      <td>1.533983e+08</td>\n",
       "      <td>139031.86170</td>\n",
       "      <td>30.910000</td>\n",
       "      <td>12750.568330</td>\n",
       "    </tr>\n",
       "    <tr>\n",
       "      <th>3</th>\n",
       "      <td>Angola</td>\n",
       "      <td>2.573450e+08</td>\n",
       "      <td>35430.55667</td>\n",
       "      <td>7.741667</td>\n",
       "      <td>7404.383333</td>\n",
       "    </tr>\n",
       "    <tr>\n",
       "      <th>4</th>\n",
       "      <td>Antigua and Barbuda</td>\n",
       "      <td>3.886667e+06</td>\n",
       "      <td>532.32500</td>\n",
       "      <td>0.000000</td>\n",
       "      <td>19435.211670</td>\n",
       "    </tr>\n",
       "  </tbody>\n",
       "</table>\n",
       "</div>"
      ],
      "text/plain": [
       "               Country  Mean Assistance (2011-2016)  Mean CO2 (2011-2016)  \\\n",
       "0          Afghanistan                 5.308612e+09            9703.49500   \n",
       "1              Albania                 2.976650e+08            4953.50500   \n",
       "2              Algeria                 1.533983e+08          139031.86170   \n",
       "3               Angola                 2.573450e+08           35430.55667   \n",
       "4  Antigua and Barbuda                 3.886667e+06             532.32500   \n",
       "\n",
       "   Mean Employment (2011-2016)  Mean GDP (2011-2016)  \n",
       "0                    16.351667           1961.268333  \n",
       "1                    18.136667          11050.331670  \n",
       "2                    30.910000          12750.568330  \n",
       "3                     7.741667           7404.383333  \n",
       "4                     0.000000          19435.211670  "
      ]
     },
     "execution_count": 51,
     "metadata": {},
     "output_type": "execute_result"
    }
   ],
   "source": [
    "#File Path to CSV\n",
    "world_data= \"C:\\\\UPenn\\\\GDP_Analysis\\\\GDP_Analysis\\\\Resources\\\\world_data.csv\"\n",
    "world_data_df= pd.read_csv(world_data)\n",
    "world_data_df= world_data_df.fillna(0)\n",
    "world_data_df.head()"
   ]
  },
  {
   "cell_type": "code",
   "execution_count": 52,
   "id": "local-destination",
   "metadata": {},
   "outputs": [
    {
     "name": "stdout",
     "output_type": "stream",
     "text": [
      "(199, 1) (199, 1)\n"
     ]
    }
   ],
   "source": [
    "#Train Test for Assistance vs. GDP\n",
    "x= world_data_df[['Mean Assistance (2011-2016)']]\n",
    "y= world_data_df[['Mean GDP (2011-2016)']].values.reshape(-1,1)\n",
    "print(x.shape, y.shape)"
   ]
  },
  {
   "cell_type": "code",
   "execution_count": 53,
   "id": "excess-election",
   "metadata": {
    "scrolled": true
   },
   "outputs": [],
   "source": [
    "x_train, x_test, y_train, y_test = train_test_split(x, y, random_state=42)"
   ]
  },
  {
   "cell_type": "code",
   "execution_count": 54,
   "id": "unlikely-passion",
   "metadata": {},
   "outputs": [
    {
     "data": {
      "text/plain": [
       "LinearRegression()"
      ]
     },
     "execution_count": 54,
     "metadata": {},
     "output_type": "execute_result"
    }
   ],
   "source": [
    "#Linear Regression for Assistance vs. GDP\n",
    "model = LinearRegression()\n",
    "model.fit(x_train, y_train)"
   ]
  },
  {
   "cell_type": "code",
   "execution_count": 55,
   "id": "inside-resolution",
   "metadata": {},
   "outputs": [
    {
     "data": {
      "text/plain": [
       "0.19586792549852639"
      ]
     },
     "execution_count": 55,
     "metadata": {},
     "output_type": "execute_result"
    }
   ],
   "source": [
    "model.score(x_test, y_test)"
   ]
  },
  {
   "cell_type": "code",
   "execution_count": 59,
   "id": "radical-hunter",
   "metadata": {},
   "outputs": [
    {
     "data": {
      "image/png": "[encoded data removed]",
      "text/plain": [
       "<Figure size 432x288 with 1 Axes>"
      ]
     },
     "metadata": {
      "needs_background": "light"
     },
     "output_type": "display_data"
    }
   ],
   "source": [
    "predictions = model.predict(x_test)\n",
    "model.fit(x_train, y_train)\n",
    "plt.scatter(model.predict(x_train), model.predict(x_train) - y_train, c=\"blue\", label=\"Training Data\")\n",
    "plt.scatter(model.predict(x_test), model.predict(x_test) - y_test, c=\"orange\", label=\"Testing Data\")\n",
    "plt.legend()\n",
    "plt.hlines(y=0, xmin=y_test.min(), xmax=y_test.max())\n",
    "plt.title(\"Foreign Aid vs. GDP\")\n",
    "plt.show()\n",
    "#not a good relationship between assistance & gdp"
   ]
  },
  {
   "cell_type": "code",
   "execution_count": 58,
   "id": "disturbed-debut",
   "metadata": {},
   "outputs": [
    {
     "name": "stdout",
     "output_type": "stream",
     "text": [
      "MSE: 253851706.6526288, R2: 0.19586792549852639\n"
     ]
    }
   ],
   "source": [
    "#Calculate MSE & R2 for GDP\n",
    "MSE = mean_squared_error(y_test, predictions)\n",
    "r2 = model.score(x_test, y_test)\n",
    "print(f\"MSE: {MSE}, R2: {r2}\")"
   ]
  },
  {
   "cell_type": "code",
   "execution_count": 62,
   "id": "extraordinary-lindsay",
   "metadata": {},
   "outputs": [
    {
     "name": "stdout",
     "output_type": "stream",
     "text": [
      "(199, 1) (199, 1)\n"
     ]
    }
   ],
   "source": [
    "#Train Test for Assistance vs. Co2\n",
    "x= world_data_df[['Mean Assistance (2011-2016)']]\n",
    "y= world_data_df[['Mean CO2 (2011-2016)']].values.reshape(-1,1)\n",
    "print(x.shape, y.shape)"
   ]
  },
  {
   "cell_type": "code",
   "execution_count": 63,
   "id": "alternate-biography",
   "metadata": {},
   "outputs": [],
   "source": [
    "x_train, x_test, y_train, y_test = train_test_split(x, y, random_state=42)"
   ]
  },
  {
   "cell_type": "code",
   "execution_count": 64,
   "id": "other-purchase",
   "metadata": {},
   "outputs": [
    {
     "data": {
      "text/plain": [
       "LinearRegression()"
      ]
     },
     "execution_count": 64,
     "metadata": {},
     "output_type": "execute_result"
    }
   ],
   "source": [
    "#Linear Regression for Assistance vs. CO2\n",
    "model = LinearRegression()\n",
    "model.fit(x_train, y_train)"
   ]
  },
  {
   "cell_type": "code",
   "execution_count": 65,
   "id": "involved-carroll",
   "metadata": {},
   "outputs": [
    {
     "data": {
      "text/plain": [
       "0.009188960436414373"
      ]
     },
     "execution_count": 65,
     "metadata": {},
     "output_type": "execute_result"
    }
   ],
   "source": [
    "model.score(x_test, y_test)"
   ]
  },
  {
   "cell_type": "code",
   "execution_count": 66,
   "id": "persistent-defensive",
   "metadata": {},
   "outputs": [
    {
     "data": {
      "image/png": "[encoded data removed]",
      "text/plain": [
       "<Figure size 432x288 with 1 Axes>"
      ]
     },
     "metadata": {
      "needs_background": "light"
     },
     "output_type": "display_data"
    }
   ],
   "source": [
    "predictions = model.predict(x_test)\n",
    "model.fit(x_train, y_train)\n",
    "plt.scatter(model.predict(x_train), model.predict(x_train) - y_train, c=\"blue\", label=\"Training Data\")\n",
    "plt.scatter(model.predict(x_test), model.predict(x_test) - y_test, c=\"orange\", label=\"Testing Data\")\n",
    "plt.legend()\n",
    "plt.hlines(y=0, xmin=y_test.min(), xmax=y_test.max())\n",
    "plt.title(\"Foreign Aid vs. Co2 Emission\")\n",
    "plt.show()"
   ]
  },
  {
   "cell_type": "code",
   "execution_count": 67,
   "id": "hazardous-polymer",
   "metadata": {},
   "outputs": [
    {
     "name": "stdout",
     "output_type": "stream",
     "text": [
      "MSE: 520046978142.0521, R2: 0.009188960436414373\n"
     ]
    }
   ],
   "source": [
    "#Calculate MSE & R2 for Co2\n",
    "MSE = mean_squared_error(y_test, predictions)\n",
    "r2 = model.score(x_test, y_test)\n",
    "print(f\"MSE: {MSE}, R2: {r2}\")"
   ]
  },
  {
   "cell_type": "code",
   "execution_count": 68,
   "id": "oriented-natural",
   "metadata": {},
   "outputs": [
    {
     "name": "stdout",
     "output_type": "stream",
     "text": [
      "(199, 1) (199, 1)\n"
     ]
    }
   ],
   "source": [
    "#Train Test for Assistance vs. Employment Rate\n",
    "x= world_data_df[['Mean Assistance (2011-2016)']]\n",
    "y= world_data_df[['Mean Employment (2011-2016)']].values.reshape(-1,1)\n",
    "print(x.shape, y.shape)"
   ]
  },
  {
   "cell_type": "code",
   "execution_count": 69,
   "id": "terminal-underwear",
   "metadata": {},
   "outputs": [],
   "source": [
    "x_train, x_test, y_train, y_test = train_test_split(x, y, random_state=42)"
   ]
  },
  {
   "cell_type": "code",
   "execution_count": 70,
   "id": "empirical-pharmaceutical",
   "metadata": {},
   "outputs": [
    {
     "data": {
      "text/plain": [
       "LinearRegression()"
      ]
     },
     "execution_count": 70,
     "metadata": {},
     "output_type": "execute_result"
    }
   ],
   "source": [
    "#Linear Regression for Assistance vs. Employment\n",
    "model = LinearRegression()\n",
    "model.fit(x_train, y_train)"
   ]
  },
  {
   "cell_type": "code",
   "execution_count": 71,
   "id": "aggregate-benefit",
   "metadata": {},
   "outputs": [
    {
     "data": {
      "text/plain": [
       "-0.020775122717019423"
      ]
     },
     "execution_count": 71,
     "metadata": {},
     "output_type": "execute_result"
    }
   ],
   "source": [
    "model.score(x_test, y_test)"
   ]
  },
  {
   "cell_type": "code",
   "execution_count": 72,
   "id": "fifty-atlanta",
   "metadata": {},
   "outputs": [
    {
     "data": {
      "image/png": "[encoded data removed]",
      "text/plain": [
       "<Figure size 432x288 with 1 Axes>"
      ]
     },
     "metadata": {
      "needs_background": "light"
     },
     "output_type": "display_data"
    }
   ],
   "source": [
    "predictions = model.predict(x_test)\n",
    "model.fit(x_train, y_train)\n",
    "plt.scatter(model.predict(x_train), model.predict(x_train) - y_train, c=\"blue\", label=\"Training Data\")\n",
    "plt.scatter(model.predict(x_test), model.predict(x_test) - y_test, c=\"orange\", label=\"Testing Data\")\n",
    "plt.legend()\n",
    "plt.hlines(y=0, xmin=y_test.min(), xmax=y_test.max())\n",
    "plt.title(\"Foreign Aid vs. Employment\")\n",
    "plt.show()"
   ]
  },
  {
   "cell_type": "code",
   "execution_count": 73,
   "id": "south-knock",
   "metadata": {},
   "outputs": [
    {
     "name": "stdout",
     "output_type": "stream",
     "text": [
      "MSE: 60.74350251481165, R2: -0.020775122717019423\n"
     ]
    }
   ],
   "source": [
    "#MSE & R2 for Employment\n",
    "MSE = mean_squared_error(y_test, predictions)\n",
    "r2 = model.score(x_test, y_test)\n",
    "print(f\"MSE: {MSE}, R2: {r2}\")"
   ]
  },
  {
   "cell_type": "code",
   "execution_count": null,
   "id": "equivalent-chart",
   "metadata": {},
   "outputs": [],
   "source": [
    "#find clusters "
   ]
  }
 ],
 "metadata": {
  "kernelspec": {
   "display_name": "Python 3",
   "language": "python",
   "name": "python3"
  },
  "language_info": {
   "codemirror_mode": {
    "name": "ipython",
    "version": 3
   },
   "file_extension": ".py",
   "mimetype": "text/x-python",
   "name": "python",
   "nbconvert_exporter": "python",
   "pygments_lexer": "ipython3",
   "version": "3.6.12"
  }
 },
 "nbformat": 4,
 "nbformat_minor": 5
}
